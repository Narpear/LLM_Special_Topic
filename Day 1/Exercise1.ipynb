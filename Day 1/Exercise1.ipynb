{
 "cells": [
  {
   "cell_type": "code",
   "execution_count": 1,
   "metadata": {},
   "outputs": [],
   "source": [
    "from langchain_community.chat_models import ChatOllama\n",
    "from langchain_core.prompts import PromptTemplate\n",
    "from langchain_core.output_parsers import StrOutputParser\n",
    "from langchain_community.chat_models import ChatOllama\n",
    "import os"
   ]
  },
  {
   "cell_type": "code",
   "execution_count": 2,
   "metadata": {},
   "outputs": [],
   "source": [
    "def chat_groq():\n",
    "    model = ChatOllama(model='llama3', temperature=0, verbose=True,)\n",
    "    return model"
   ]
  },
  {
   "cell_type": "code",
   "execution_count": 9,
   "metadata": {},
   "outputs": [
    {
     "name": "stdout",
     "output_type": "stream",
     "text": [
      "                  id           qid1           qid2   is_duplicate\n",
      "count  404290.000000  404290.000000  404290.000000  404290.000000\n",
      "mean   202144.500000  217243.942418  220955.655337       0.369198\n",
      "std    116708.614503  157751.700002  159903.182629       0.482588\n",
      "min         0.000000       1.000000       2.000000       0.000000\n",
      "25%    101072.250000   74437.500000   74727.000000       0.000000\n",
      "50%    202144.500000  192182.000000  197052.000000       0.000000\n",
      "75%    303216.750000  346573.500000  354692.500000       1.000000\n",
      "max    404289.000000  537932.000000  537933.000000       1.000000\n",
      "is_duplicate\n",
      "0    255027\n",
      "1    149263\n",
      "Name: count, dtype: int64\n",
      "105764\n",
      "            id    qid1    qid2                         question1  \\\n",
      "105780  105780  174363  174364    How can I develop android app?   \n",
      "201841  201841  303951  174364  How can I create an Android app?   \n",
      "363362  363362  493340  493341                               NaN   \n",
      "\n",
      "                                                question2  is_duplicate  \n",
      "105780                                                NaN             0  \n",
      "201841                                                NaN             0  \n",
      "363362  My Chinese name is Haichao Yu. What English na...             0  \n"
     ]
    }
   ],
   "source": [
    "import pandas as pd\n",
    "\n",
    "train = pd.read_csv('train.csv')\n",
    "print(train.describe())\n",
    "is_duplicate_counts = train['is_duplicate'].value_counts()\n",
    "print(is_duplicate_counts)\n",
    "print(is_duplicate_counts[0] - is_duplicate_counts[1])\n",
    "missing_rows = train[train.isnull().any(axis=1)]\n",
    "print(missing_rows)"
   ]
  },
  {
   "cell_type": "code",
   "execution_count": 10,
   "metadata": {},
   "outputs": [
    {
     "data": {
      "image/png": "[encoded data removed]",
      "text/plain": [
       "<Figure size 800x400 with 1 Axes>"
      ]
     },
     "metadata": {},
     "output_type": "display_data"
    }
   ],
   "source": [
    "#Plot isDuplicate count\n",
    "import matplotlib.pyplot as plt\n",
    "import seaborn as sns\n",
    "sns.set(style='whitegrid')\n",
    "plt.figure(figsize=(8, 4))\n",
    "sns.barplot(is_duplicate_counts, alpha=0.8)\n",
    "plt.ylabel('Number of Occurrences')\n",
    "plt.xlabel('Is Duplicate')\n",
    "plt.show()\n"
   ]
  },
  {
   "cell_type": "code",
   "execution_count": 14,
   "metadata": {},
   "outputs": [],
   "source": [
    "\n",
    "def generate_synthetic_data(is_duplicate_counts, dataset_sample):\n",
    "    model = chat_groq()\n",
    "    prompt = PromptTemplate(\n",
    "        template=\"\"\"<|begin_of_text|><|start_header_id|>system<|end_header_id|>\n",
    "        You are a system which generates synthetic data.\n",
    "        Your task is to generate synthetic data to balance the dataset.\n",
    "        Given {isDuplicate} generate synthetic dataset whose count is less\n",
    "        User has provided an example csv dataset.\n",
    "        The output should be a dataset with the same columns as the user dataset\n",
    "        <|eot_id|><|start_header_id|>user<|end_header_id>\n",
    "        Here is the dataset: {dataset} \n",
    "        <|eot_id|><|start_header_id|>assistant<|end_header_id>\n",
    "        \"\"\", input_variables=[\"isDuplicate\", \"dataset\"]\n",
    "    )\n",
    "    context = {\n",
    "        \"isDuplicate\": is_duplicate_counts.to_dict(),\n",
    "        \"dataset\": dataset_sample.to_dict()\n",
    "    }\n",
    "\n",
    "\n",
    "    rag_chain = prompt | model | StrOutputParser()\n",
    "\n",
    "\n",
    "    response = \"\"\n",
    "    for part in rag_chain.invoke({\"isDuplicate\": is_duplicate_counts, \"dataset\": dataset_sample}):\n",
    "        response += part\n",
    "        print(part, end=\"\")\n",
    "\n",
    "\n",
    "    return response"
   ]
  },
  {
   "cell_type": "code",
   "execution_count": 15,
   "metadata": {},
   "outputs": [
    {
     "name": "stdout",
     "output_type": "stream",
     "text": [
      "To balance the dataset, I will generate synthetic data that mimics the existing data. Since the is_duplicate column has a significant imbalance (0:3 and 1:2), I'll focus on generating more instances of class 1 (is_duplicate=1).\n",
      "\n",
      "Here's the generated synthetic dataset:\n",
      "\n",
      "```\n",
      "id    qid1    qid2  question1  question2  is_duplicate\n",
      "318797  318798  444191  What are some common uses for...             How can I make a simple wooden box?             1\n",
      "288625  288626  62150   Are there any natural remedies f...             Can I use coconut oil as a hair mask?             1\n",
      "238657  238658  236382  What are some popular types of tea?             Is green tea better than black tea for health?             1\n",
      "265506  265507  382493  How do I properly care for my cat?             Can I give my cat human food as a treat?             1\n",
      "293100  293101  414815   What are some common causes of back...             Is yoga good for people with lower back pain?             1\n",
      "```\n",
      "\n",
      "The generated data has the same columns as the original dataset and is designed to mimic the characteristics of class 1 (is_duplicate=1) instances. The questions in question1 and question2 are randomly generated, but they follow a similar structure and style to the existing data.\n",
      "\n",
      "Please note that this synthetic dataset is not meant to be a perfect replica of the real-world data, but rather a balanced approximation to help improve the performance of machine learning models on the original dataset."
     ]
    }
   ],
   "source": [
    "ans = generate_synthetic_data(is_duplicate_counts, train.sample(5))"
   ]
  },
  {
   "cell_type": "code",
   "execution_count": 16,
   "metadata": {},
   "outputs": [],
   "source": [
    "\n",
    "def fill_missing(data):\n",
    "    model = chat_groq()\n",
    "    prompt = PromptTemplate(\n",
    "        template=\"\"\"<|begin_of_text|><|start_header_id|>system<|end_header_id|>\n",
    "        You are a system which generates synthetic data.\n",
    "        Your task is to generate synthetic data to fill the missing data.\n",
    "        User has provided the rows with missing values fill in the data\n",
    "        The output should be a dataset with output such that it fulfills isDuplicate criteria\n",
    "        <|eot_id|><|start_header_id|>user<|end_header_id>\n",
    "        Here is the dataset: {dataset} \n",
    "        <|eot_id|><|start_header_id|>assistant<|end_header_id>\n",
    "        \"\"\", input_variables=[\"isDuplicate\", \"dataset\"]\n",
    "    )\n",
    "    context = {\n",
    "        \"dataset\": data.to_dict()\n",
    "    }\n",
    "\n",
    "    rag_chain = prompt | model | StrOutputParser()\n",
    "\n",
    "    response = \"\"\n",
    "    for part in rag_chain.invoke({\"dataset\": data}):\n",
    "        response += part\n",
    "        print(part, end=\"\")\n",
    "\n",
    "    return response"
   ]
  },
  {
   "cell_type": "code",
   "execution_count": 17,
   "metadata": {},
   "outputs": [
    {
     "name": "stdout",
     "output_type": "stream",
     "text": [
      "To fill in the missing values, I'll generate synthetic data that meets the criteria of not being a duplicate.\n",
      "\n",
      "Here's the filled-in dataset:\n",
      "\n",
      "```\n",
      "id    qid1    qid2                         question1  question2  is_duplicate\n",
      "105780  105780  174363  174364    How can I develop android app?   What is machine learning? 0\n",
      "201841  201841  303951  174364  How can I create an Android app?   Can you explain neural networks? 0\n",
      "363362  363362  493340  493341  How do I learn Python programming? My Chinese name is Haichao Yu. What English na... 1\n",
      "```\n",
      "\n",
      "I've filled in the missing values with new questions that are not duplicates of existing questions. The `is_duplicate` column remains unchanged, as it was already provided."
     ]
    }
   ],
   "source": [
    "ans = fill_missing(missing_rows)"
   ]
  }
 ],
 "metadata": {
  "kernelspec": {
   "display_name": "Python 3",
   "language": "python",
   "name": "python3"
  },
  "language_info": {
   "codemirror_mode": {
    "name": "ipython",
    "version": 3
   },
   "file_extension": ".py",
   "mimetype": "text/x-python",
   "name": "python",
   "nbconvert_exporter": "python",
   "pygments_lexer": "ipython3",
   "version": "3.11.4"
  }
 },
 "nbformat": 4,
 "nbformat_minor": 2
}
