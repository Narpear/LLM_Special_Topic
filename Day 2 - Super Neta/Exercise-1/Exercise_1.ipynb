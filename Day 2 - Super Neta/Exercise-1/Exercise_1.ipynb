{
  "cells": [
    {
      "cell_type": "code",
      "execution_count": 2,
      "metadata": {
        "id": "aHKndO5NPMy1"
      },
      "outputs": [],
      "source": [
        "import os\n",
        "os.environ[\"GROQ_API_KEY\"] = \"key_here\""
      ]
    },
    {
      "cell_type": "code",
      "execution_count": 3,
      "metadata": {
        "id": "QUmyekVhOaOo"
      },
      "outputs": [],
      "source": [
        "from langchain_groq import ChatGroq\n",
        "\n",
        "llm = ChatGroq(\n",
        "    model=\"llama3-8b-8192\",\n",
        "    temperature=0,\n",
        "    max_tokens=None,\n",
        "    timeout=None,\n",
        "    max_retries=2,\n",
        "    # other params...\n",
        ")"
      ]
    },
    {
      "cell_type": "code",
      "execution_count": 4,
      "metadata": {
        "colab": {
          "base_uri": "https://localhost:8080/",
          "height": 36
        },
        "id": "K6DcFfcIOfQ9",
        "outputId": "12cb63ba-eeb6-4688-d97f-3d32ec344426"
      },
      "outputs": [
        {
          "data": {
            "text/plain": [
              "'Pears are a nutrient-rich fruit that provides several essential vitamins, minerals, and antioxidants. Here are some of the key nutrients found in pears:\\n\\n1. Fiber: Pears are a good source of dietary fiber, containing both soluble and insoluble fiber. Fiber can help promote digestive health, prevent constipation, and support healthy blood sugar levels.\\n2. Vitamin C: Pears are a good source of vitamin C, an essential antioxidant that helps protect cells from damage and supports immune function.\\n3. Potassium: Pears are a good source of potassium, an electrolyte that helps regulate fluid balance and blood pressure.\\n4. Antioxidants: Pears contain a variety of antioxidants, including flavonoids, phenolic acids, and carotenoids, which can help protect against oxidative stress and inflammation.\\n5. Vitamin K: Pears are a good source of vitamin K, which plays a crucial role in blood clotting and bone health.\\n6. Folate: Pears are a good source of folate, a B vitamin that is essential for cell growth and development.\\n7. Manganese: Pears are a good source of manganese, a mineral that plays a role in enzyme function, wound healing, and bone health.\\n8. Copper: Pears are a good source of copper, a mineral that plays a role in immune function, connective tissue health, and brain function.\\n9. Vitamin B2 (Riboflavin): Pears are a good source of vitamin B2, which is important for energy production and eye health.\\n10. Vitamin B6: Pears are a good source of vitamin B6, which plays a role in many bodily functions, including energy production, nerve function, and immune function.\\n11. Magnesium: Pears are a good source of magnesium, a mineral that plays a role in muscle function, nerve function, and bone health.\\n12. Phosphorus: Pears are a good source of phosphorus, a mineral that plays a role in bone health, kidney function, and protein synthesis.\\n\\nOne medium-sized pear (about 178g) provides:\\n\\n* Fiber: 4.4g\\n* Vitamin C: 10.4mg\\n* Potassium: 442mg\\n* Antioxidants: varies depending on the variety and ripeness of the pear\\n* Vitamin K: 14.4mcg\\n* Folate: 23.4mcg\\n* Manganese: 0.3mg\\n* Copper: 0.2mg\\n* Vitamin B2 (Riboflavin): 0.1mg\\n* Vitamin B6: 0.1mg\\n* Magnesium: 22.4mg\\n* Phosphorus: 34.4mg\\n\\nOverall, pears are a nutritious fruit that can be a healthy addition to a balanced diet.'"
            ]
          },
          "execution_count": 4,
          "metadata": {},
          "output_type": "execute_result"
        }
      ],
      "source": [
        "llm.invoke(\"what are the nutrients in pears?\").content"
      ]
    },
    {
      "cell_type": "code",
      "execution_count": 5,
      "metadata": {
        "id": "i6FpCiMpPTfY"
      },
      "outputs": [],
      "source": [
        "from langchain_core.prompts import ChatPromptTemplate, MessagesPlaceholder, SystemMessagePromptTemplate, HumanMessagePromptTemplate"
      ]
    },
    {
      "cell_type": "code",
      "execution_count": 6,
      "metadata": {
        "id": "A1FGUfH_Peyw"
      },
      "outputs": [],
      "source": [
        "template1=\"You are a analyst, now for the {data} answer the {query}\"\n",
        "prompt1=ChatPromptTemplate.from_template(template1)"
      ]
    },
    {
      "cell_type": "code",
      "execution_count": 7,
      "metadata": {
        "id": "UEdKTVe5QTre"
      },
      "outputs": [],
      "source": [
        "chain1=prompt1 | llm"
      ]
    },
    {
      "cell_type": "code",
      "execution_count": 8,
      "metadata": {
        "id": "v7tpfKEDQXIz"
      },
      "outputs": [],
      "source": [
        "data1='''INC 4151\n",
        "JnP 4637\n",
        "JAJGP 807\n",
        "IND 1964\n",
        "IND 1748\n",
        "IND 2163\n",
        "IND 1528\n",
        "TDP 63471\n",
        "BJP 2411\n",
        "YSRCP 105037\n",
        "INC 3533\n",
        "JnP 12125\n",
        "JAJGP 742\n",
        "IND 1410\n",
        "IND 3455\n",
        "IND 2223\n",
        "IND 1160\n",
        "YSRCP 68836\n",
        "INC 1362\n",
        "JnP 4995\n",
        "JAJGP 189\n",
        "IND 530\n",
        "IND 390\n",
        "IND 664\n",
        "IND 386\n",
        "TDP 59128\n",
        "BJP 1684\n",
        "YSRCP 76281\n",
        "INC 1730\n",
        "JnP 3349\n",
        "JAJGP 261\n",
        "IND 755\n",
        "IND 483\n",
        "IND 1154\n",
        "IND 707\n",
        "TDP 23849\n",
        "BJP 3354\n",
        "YSRCP 83652\n",
        "INC 3599\n",
        "JnP 8761\n",
        "JAJGP 2034\n",
        "IND 3902\n",
        "IND 6430\n",
        "IND 3157\n",
        "IND 2653\n",
        "TDP 27101\n",
        "BJP 3629\n",
        "YSRCP 82473\n",
        "TDP 54056\n",
        "BJP 1753\n",
        "YSRCP 69588\n",
        "INC 1327\n",
        "JnP 2987\n",
        "JAJGP 203\n",
        "IND 568\n",
        "IND 418\n",
        "IND 743\n",
        "IND 636\n",
        "TDP 51399\n",
        "BJP 3273\n",
        "YSRCP 71694\n",
        "INC 1954\n",
        "JnP 5391\n",
        "JAJGP 469\n",
        "IND 1082\n",
        "IND 886\n",
        "IND 1127\n",
        "IND 793\n",
        "TDP 57159\n",
        "BJP 1474'''"
      ]
    },
    {
      "cell_type": "code",
      "execution_count": 9,
      "metadata": {
        "id": "92hI2lnUQYq5"
      },
      "outputs": [],
      "source": [
        "output1=chain1.invoke({\"data\":data1,'query':\"Determine which party won this election, who is the runner up and what is the victory margin against the runner up.\"})"
      ]
    },
    {
      "cell_type": "code",
      "execution_count": 10,
      "metadata": {
        "colab": {
          "base_uri": "https://localhost:8080/",
          "height": 70
        },
        "id": "RFMF8jHkQalO",
        "outputId": "f68c66c9-156d-494f-e55e-f79479175984"
      },
      "outputs": [
        {
          "data": {
            "text/plain": [
              "'A thrilling election analysis!\\n\\nAfter analyzing the data, I can conclude that:\\n\\n**Winner:** YSRCP (105037 + 68836 + 76281 + 83652 + 82473 + 69588 + 71694 + 82473 = 541222)\\n\\n**Runner-up:** TDP (63471 + 59128 + 23849 + 27101 + 51399 + 57159 = 241107)\\n\\n**Victory Margin:** YSRCP won by a margin of 541222 - 241107 = 300115 votes.\\n\\nSo, the YSRCP has emerged as the winner, and the TDP is the runner-up. The victory margin is a significant 300115 votes in favor of the YSRCP.'"
            ]
          },
          "execution_count": 10,
          "metadata": {},
          "output_type": "execute_result"
        }
      ],
      "source": [
        "output1.content"
      ]
    },
    {
      "cell_type": "code",
      "execution_count": 11,
      "metadata": {
        "id": "z7pm7P-HQbae"
      },
      "outputs": [],
      "source": [
        "data2='''\n",
        "TDP 83375\n",
        "INC 2370\n",
        "YSRCP 69572\n",
        "BJP 1609\n",
        "PPOI 316\n",
        "JnP 9347\n",
        "IND 910\n",
        "IND 858\n",
        "IND 661\n",
        "TDP 70050\n",
        "INC 1650\n",
        "YSRCP 66319\n",
        "BJP 975\n",
        "PPOI 157\n",
        "JnP 5338\n",
        "IND 575\n",
        "IND 662\n",
        "\n",
        "IND 448\n",
        "TDP 86897\n",
        "INC 1308\n",
        "YSRCP 78289\n",
        "BJP 754\n",
        "PPOI 180\n",
        "JnP 2163\n",
        "IND 634\n",
        "IND 931\n",
        "IND 513\n",
        "TDP 65828\n",
        "INC 1616\n",
        "YSRCP 72134\n",
        "BJP 1159\n",
        "PPOI 242\n",
        "JnP 4047\n",
        "IND 776\n",
        "IND 791\n",
        "IND 741\n",
        "TDP 86800\n",
        "INC 2007\n",
        "YSRCP 77144\n",
        "BJP 1387\n",
        "PPOI 224\n",
        "JnP 5737\n",
        "IND 675\n",
        "IND 614\n",
        "IND 516\n",
        "TDP 63490\n",
        "INC 1256\n",
        "YSRCP 75759\n",
        "BJP 692\n",
        "PPOI 142\n",
        "JnP 2611\n",
        "IND 517\n",
        "IND 538\n",
        "IND 343\n",
        "TDP 72773\n",
        "INC 3249\n",
        "YSRCP 81714\n",
        "BJP 781\n",
        "PPOI 180\n",
        "JnP 2076\n",
        "IND 742\n",
        "IND 757\n",
        "IND 592\n",
        "'''"
      ]
    },
    {
      "cell_type": "code",
      "execution_count": 12,
      "metadata": {
        "id": "tQKJJjGsQhe0"
      },
      "outputs": [],
      "source": [
        "output2=chain1.invoke({\"data\":data2,'query':\"Determine which party won this election, who is the runner up and what is the victory margin against the runner up.\"})"
      ]
    },
    {
      "cell_type": "code",
      "execution_count": 13,
      "metadata": {
        "colab": {
          "base_uri": "https://localhost:8080/",
          "height": 105
        },
        "id": "oZZG6t4rQjLR",
        "outputId": "cfdb3565-d7f0-495d-816c-22169c2d9db6"
      },
      "outputs": [
        {
          "data": {
            "text/plain": [
              "\"A thrilling election analysis!\\n\\nLet's add up the votes for each party:\\n\\n1. TDP: 83375 + 70050 + 86897 + 65828 + 86800 + 63490 + 72773 = 344495\\n2. YSRCP: 69572 + 66319 + 78289 + 72134 + 77144 + 75759 + 81714 = 439127\\n3. INC: 2370 + 1650 + 1308 + 1616 + 2007 + 1256 + 3249 = 14450\\n4. BJP: 1609 + 975 + 754 + 1159 + 1387 + 692 + 781 = 7127\\n5. PPOI: 316 + 157 + 180 + 242 + 224 + 142 + 180 = 1437\\n6. JnP: 9347 + 5338 + 2163 + 4047 + 5737 + 2611 = 23143\\n7. IND: 910 + 858 + 661 + 575 + 662 + 448 + 634 + 931 + 513 + 675 + 614 + 516 + 742 + 757 + 592 = 10342\\n\\nThe winner of this election is **YSRCP** with a total of **439127** votes.\\n\\nThe runner-up is **TDP** with a total of **344495** votes.\\n\\nThe victory margin against the runner-up is **94432** votes (439127 - 344495).\""
            ]
          },
          "execution_count": 13,
          "metadata": {},
          "output_type": "execute_result"
        }
      ],
      "source": [
        "output2.content"
      ]
    },
    {
      "cell_type": "code",
      "execution_count": 14,
      "metadata": {
        "id": "gpwTpCyLQka4"
      },
      "outputs": [],
      "source": [
        "data3='''\n",
        "TDP 81865\n",
        "INC 2136\n",
        "YSRCP 96447\n",
        "BJP 830\n",
        "SAPRP 771\n",
        "ACP 269\n",
        "JnP 4534\n",
        "JAJGP 112\n",
        "PPOI 130\n",
        "IND 158\n",
        "IND 214\n",
        "IND 312\n",
        "IND 1351\n",
        "IND 1123\n",
        "TDP 70709\n",
        "INC 1901\n",
        "YSRCP 77231\n",
        "BJP 798\n",
        "SAPRP 653\n",
        "ACP 170\n",
        "JnP 4491\n",
        "JAJGP 109\n",
        "PPOI 121\n",
        "IND 169\n",
        "IND 161\n",
        "IND 192\n",
        "IND 444\n",
        "IND 981\n",
        "TDP 77990\n",
        "INC 1997\n",
        "\n",
        "YSRCP 82816\n",
        "BJP 1081\n",
        "SAPRP 1172\n",
        "ACP 225\n",
        "JnP 4249\n",
        "JAJGP 126\n",
        "PPOI 138\n",
        "IND 177\n",
        "IND 201\n",
        "IND 210\n",
        "IND 404\n",
        "IND 806\n",
        "TDP 64250\n",
        "INC 2438\n",
        "YSRCP 87430\n",
        "BJP 849\n",
        "SAPRP 713\n",
        "ACP 179\n",
        "JnP 3442\n",
        "JAJGP 124\n",
        "PPOI 100\n",
        "IND 136\n",
        "IND 151\n",
        "IND 213\n",
        "IND 924\n",
        "IND 909\n",
        "TDP 71872\n",
        "INC 2710\n",
        "YSRCP 82956\n",
        "BJP 801\n",
        "SAPRP 645\n",
        "\n",
        "ACP 151\n",
        "JnP 3627\n",
        "JAJGP 111\n",
        "PPOI 148\n",
        "IND 150\n",
        "IND 214\n",
        "IND 178\n",
        "IND 501\n",
        "IND 1100\n",
        "TDP 72449\n",
        "INC 2707\n",
        "YSRCP 85233\n",
        "BJP 657\n",
        "SAPRP 624\n",
        "ACP 169\n",
        "JnP 6426\n",
        "JAJGP 118\n",
        "PPOI 97\n",
        "IND 140\n",
        "IND 159\n",
        "IND 201\n",
        "IND 529\n",
        "IND 1020\n",
        "TDP 88172\n",
        "INC 1718\n",
        "YSRCP 61353\n",
        "BJP 1886\n",
        "SAPRP 403\n",
        "ACP 98\n",
        "JnP 7010\n",
        "JAJGP 87\n",
        "PPOI 88\n",
        "IND 80\n",
        "IND 72\n",
        "IND 155\n",
        "IND 397\n",
        "IND 397\n",
        "'''"
      ]
    },
    {
      "cell_type": "code",
      "execution_count": 15,
      "metadata": {
        "id": "gwEdvzHKQlzp"
      },
      "outputs": [],
      "source": [
        "output3=chain1.invoke({\"data\":data3,'query':\"Determine which party won this election, who is the runner up and what is the victory margin against the runner up.\"})"
      ]
    },
    {
      "cell_type": "code",
      "execution_count": 16,
      "metadata": {
        "colab": {
          "base_uri": "https://localhost:8080/",
          "height": 70
        },
        "id": "e-PVim3RQoAJ",
        "outputId": "999ba93f-dd65-4e85-f14a-a243f0154a4c"
      },
      "outputs": [
        {
          "data": {
            "text/plain": [
              "'A thrilling election analysis!\\n\\nAfter analyzing the data, I can conclude that:\\n\\n**Winner:** YSRCP (YSR Congress Party) with a total of 96447 + 77231 + 82816 + 87430 + 82956 = 351880 votes.\\n\\n**Runner-up:** TDP (Telugu Desam Party) with a total of 81865 + 70709 + 77990 + 64250 + 71872 + 72449 + 88172 = 349317 votes.\\n\\n**Victory Margin:** The victory margin of YSRCP over TDP is:\\n\\n351880 (YSRCP) - 349317 (TDP) = 2563 votes.\\n\\nSo, YSRCP wins the election with a margin of 2563 votes over TDP.'"
            ]
          },
          "execution_count": 16,
          "metadata": {},
          "output_type": "execute_result"
        }
      ],
      "source": [
        "output3.content"
      ]
    },
    {
      "cell_type": "code",
      "execution_count": 17,
      "metadata": {
        "id": "14f_SkrkQomQ"
      },
      "outputs": [],
      "source": [
        "template2=\"You are a analyst, now for the {data1},{data2},{data3} answer the {query}\"\n",
        "prompt2=ChatPromptTemplate.from_template(template2)"
      ]
    },
    {
      "cell_type": "code",
      "execution_count": 18,
      "metadata": {
        "id": "d3rHp31JQsJD"
      },
      "outputs": [],
      "source": [
        "chain2=prompt2 | llm"
      ]
    },
    {
      "cell_type": "code",
      "execution_count": 19,
      "metadata": {
        "id": "f_yec-1AQte9"
      },
      "outputs": [],
      "source": [
        "output4=chain2.invoke({\"data1\":data1,\"data2\":data2,\"data3\":data3,'query':'''compare the performance of INC\n",
        "and BJP along: total votes polled in each of the constituencies and\n",
        "respective votes percentage and also aggregated votes % across all the\n",
        "three constituencies.'''})"
      ]
    },
    {
      "cell_type": "code",
      "execution_count": 20,
      "metadata": {
        "colab": {
          "base_uri": "https://localhost:8080/",
          "height": 123
        },
        "id": "NnyhjhOKQugG",
        "outputId": "b06730bc-2af6-4d3e-8e54-0275495cd467"
      },
      "outputs": [
        {
          "data": {
            "text/plain": [
              "'Based on the data provided, here is a comparison of the performance of INC (Indian National Congress) and BJP (Bharatiya Janata Party) in each constituency:\\n\\n**Constituency-wise Performance**\\n\\n| Constituency | INC Votes | INC % | BJP Votes | BJP % |\\n| --- | --- | --- | --- | --- |\\n| 4151 | 3533 | 12.14% | 2411 | 8.35% |\\n| 4637 | 12125 | 24.45% | - | - |\\n| 807 | 742 | 8.45% | - | - |\\n| ... | ... | ... | ... | ... |\\n| 64250 | 2438 | 4.53% | 849 | 1.57% |\\n| 71872 | 2710 | 3.75% | 801 | 1.11% |\\n| 88172 | 1718 | 1.94% | 1886 | 2.13% |\\n\\n**Aggregated Performance**\\n\\n| Party | Total Votes | Total % |\\n| --- | --- | --- |\\n| INC | 136,219 | 4.53% |\\n| BJP | 34,511 | 1.15% |\\n\\nFrom the data, we can observe that:\\n\\n* INC has performed better than BJP in most constituencies, with a higher total vote count and percentage.\\n* In some constituencies, INC has received more than 20% of the total votes, while BJP has received less than 10%.\\n* The aggregated performance shows that INC has received a total of 136,219 votes, which is approximately 4.53% of the total votes, while BJP has received 34,511 votes, which is approximately 1.15% of the total votes.\\n\\nNote that the data only includes the constituencies where INC and BJP have received votes, and does not include constituencies where only one party has received votes.'"
            ]
          },
          "execution_count": 20,
          "metadata": {},
          "output_type": "execute_result"
        }
      ],
      "source": [
        "output4.content"
      ]
    },
    {
      "cell_type": "code",
      "execution_count": 21,
      "metadata": {
        "id": "k1q-YEloRM5B"
      },
      "outputs": [],
      "source": [
        "outputs=[output1,output2,output3]"
      ]
    },
    {
      "cell_type": "code",
      "execution_count": 22,
      "metadata": {
        "id": "ixwxZVMmQwNZ"
      },
      "outputs": [],
      "source": [
        "json_output=chain2.invoke({\"data1\":data1,\"data2\":data2,\"data3\":data3,'query':f'''Ignore data on independents (IND) in all the data . Provide the output for the outputs {outputs} in JSON format. Note that the structure is:Parlimentary_Constituency -> Assembly_Constituency -> Party ->votes_polled.'''})"
      ]
    },
    {
      "cell_type": "code",
      "execution_count": 23,
      "metadata": {
        "colab": {
          "base_uri": "https://localhost:8080/",
          "height": 123
        },
        "id": "RdVdqLCnRRHN",
        "outputId": "6ad6e9b6-430e-4199-e488-6636a33b1c6f"
      },
      "outputs": [
        {
          "data": {
            "text/plain": [
              "'After ignoring the data on independents (IND), the output is:\\n\\n```\\n[\\n  {\\n    \"content\": \"A thrilling election analysis!\\\\n\\\\nAfter analyzing the data, I can conclude that:\\\\n\\\\n**Winner:** YSRCP (105037 + 68836 + 76281 + 83652 + 69588 + 71694 + 82473 = 541222)\\\\n\\\\n**Runner-up:** TDP (63471 + 59128 + 23849 + 27101 + 51399 + 57159 = 241107)\\\\n\\\\n**Victory Margin:** YSRCP won by a margin of 541222 - 241107 = 300115 votes.\\\\n\\\\nSo, the YSRCP has emerged as the winner, and the TDP is the runner-up. The victory margin is a significant 300115 votes in favor of the YSRCP.\",\\n    \"response_metadata\": {\\n      \"token_usage\": {\\n        \"completion_tokens\": 157,\\n        \"prompt_tokens\": 422,\\n        \"total_tokens\": 579,\\n        \"completion_time\": 0.125981885,\\n        \"prompt_time\": 0.320653378,\\n        \"queue_time\": null,\\n        \"total_time\": 0.446635263\\n      },\\n      \"model_name\": \"llama3-8b-8192\",\\n      \"system_fingerprint\": \"fp_179b0f92c9\",\\n      \"finish_reason\": \"stop\",\\n      \"logprobs\": null\\n    },\\n    \"id\": \"run-8572b148-51db-4587-946f-8f6044a5000c-0\",\\n    \"usage_metadata\": {\\n      \"input_tokens\": 422,\\n      \"output_tokens\": 157,\\n      \"total_tokens\": 579\\n    }\\n  },\\n  {\\n    \"content\": \"A thrilling election analysis!\\\\n\\\\nLet\\'s add up the votes for each party:\\\\n\\\\n1. TDP: 83375 + 70050 + 86897 + 65828 + 86800 + 63490 + 72773 = 344495\\\\n2. YSRCP: 69572 + 66319 + 78289 + 72134 + 77144 + 75759 + 81714 = 439127\\\\n3. INC: 2370 + 1650 + 1308 + 1616 + 2007 + 1256 + 3249 = 14450\\\\n4. BJP: 1609 + 975 + 754 + 1159 + 1387 + 692 + 781 = 7127\\\\n5. PPOI: 316 + 157 + 180 + 242 + 224 + 142 + 180 = 1437\\\\n6. JnP: 9347 + 5338 + 2163 + 4047 + 5737 + 2611 = 23143\\\\n\\\\nThe winner of this election is **YSRCP** with a total of **439127** votes.\\\\n\\\\nThe runner-up is **TDP** with a total of **344495** votes.\\\\n\\\\nThe victory margin against the runner-up is **94432** votes (439127 - 344495).\",\\n    \"response_metadata\": {\\n      \"token_usage\": {\\n        \"completion_tokens\": 336,\\n        \"prompt_tokens\": 376,\\n        \"total_tokens\": 712,\\n        \"completion_time\": 0.268568266,\\n        \"prompt_time\": 0.075981123,\\n        \"queue_time\": null,\\n        \"total_time\": 0.344549389\\n      },\\n      \"model_name\": \"llama3-8b-8192\",\\n      \"system_fingerprint\": \"fp_179b0f92c9\",\\n      \"finish_reason\": \"stop\",\\n      \"logprobs\": null\\n    },\\n    \"id\": \"run-167936a7-ca46-4558-babd-30af66c08190-0\",\\n    \"usage_metadata\": {\\n      \"input_tokens\": 376,\\n      \"output_tokens\": 336,\\n      \"total_tokens\": 712\\n    }\\n  },\\n  {\\n    \"content\": \"A thrilling election analysis!\\\\n\\\\nAfter analyzing the data, I can conclude that:\\\\n\\\\n**Winner:** YSRCP (YSR Congress Party) with a total of 96447 + 77231 + 82816 + 87430 + 82956 = 351880 votes.\\\\n\\\\n**Runner-up:** TDP (Telugu Desam Party) with a total of 81865 + 70709 + 77990 + 64250 + 71872 + 72449 + 88172 = 349317 votes.\\\\n\\\\n**Victory Margin:** The victory margin of YSRCP over TDP is:\\\\n\\\\n351880 (YSRCP) - 349317 (TDP) = 2563 votes.\\\\n\\\\nSo, YSRCP wins the election with a margin of 2563 votes over TDP.\",\\n    \"response_metadata\": {\\n      \"token_usage\": {\\n        \"completion_tokens\": 165,\\n        \"prompt_tokens\": 548,\\n        \"total_tokens\": 713,\\n        \"completion_time\": 0.130781484,\\n        \"prompt_time\": 0.119389483,\\n        \"queue_time\": null,\\n        \"total_time\": 0.250170967\\n      },\\n      \"model_name\": \"llama3-8b-8192\",\\n      \"system_fingerprint\": \"fp_a97cfe35ae\",\\n      \"finish_reason\": \"stop\",\\n      \"logprobs\": null\\n    },\\n    \"id\": \"run-8a39a9b3-d6a5-4209-a3cb-9119101e03c7-0\",\\n    \"usage_metadata\": {\\n      \"input_tokens\": 548,\\n      \"output_tokens\": 165,\\n      \"total_tokens\": 713\\n    }\\n  }\\n]\\n```\\n\\nNote that the output is in JSON format, and the structure is as follows:\\n\\n* Each element in the array represents a separate output message.\\n* Each output message has the following properties:\\n\\t+ `content`: The text content of the output message.\\n\\t+ `response_metadata`: Metadata about the response, including token usage, model name, system fingerprint, finish reason, and log probabilities.\\n\\t+ `id`: A unique identifier for the output message.\\n\\t+ `usage_metadata`: Metadata about the input and output tokens used in the response.'"
            ]
          },
          "execution_count": 23,
          "metadata": {},
          "output_type": "execute_result"
        }
      ],
      "source": [
        "json_output.content"
      ]
    },
    {
      "cell_type": "code",
      "execution_count": null,
      "metadata": {
        "id": "wnfNgp8eRTa0"
      },
      "outputs": [],
      "source": []
    }
  ],
  "metadata": {
    "colab": {
      "provenance": []
    },
    "kernelspec": {
      "display_name": "env",
      "language": "python",
      "name": "python3"
    },
    "language_info": {
      "codemirror_mode": {
        "name": "ipython",
        "version": 3
      },
      "file_extension": ".py",
      "mimetype": "text/x-python",
      "name": "python",
      "nbconvert_exporter": "python",
      "pygments_lexer": "ipython3",
      "version": "3.11.4"
    }
  },
  "nbformat": 4,
  "nbformat_minor": 0
}
