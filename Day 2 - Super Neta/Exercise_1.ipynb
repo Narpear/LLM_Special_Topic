{
  "nbformat": 4,
  "nbformat_minor": 0,
  "metadata": {
    "colab": {
      "provenance": [],
      "gpuType": "T4"
    },
    "kernelspec": {
      "name": "python3",
      "display_name": "Python 3"
    },
    "language_info": {
      "name": "python"
    },
    "accelerator": "GPU"
  },
  "cells": [
    {
      "cell_type": "code",
      "source": [
        "#@title Import & Download Meta-Llama-3.1-8B-Instruct Model\n",
        "import transformers\n",
        "import torch\n",
        "\n",
        "model_id = \"meta-llama/Meta-Llama-3.1-8B-Instruct\"\n",
        "\n",
        "pipeline = transformers.pipeline(\n",
        "    \"text-generation\",\n",
        "    model=model_id,\n",
        "    model_kwargs={\"torch_dtype\": torch.bfloat16},\n",
        "    device_map=\"auto\",\n",
        ")\n",
        "def Llama_Chat(system_role,user_msg):\n",
        "  messages = [\n",
        "    {\"role\": \"system\", \"content\": system_role},\n",
        "    {\"role\": \"user\", \"content\": user_msg},\n",
        "  ]\n",
        "  outputs = pipeline(\n",
        "      messages,\n",
        "      max_new_tokens=256,\n",
        "  )\n",
        "  reply=outputs[0][\"generated_text\"][-1][\"content\"]\n",
        "  return reply\n",
        "from IPython.display import clear_output\n",
        "clear_output()"
      ],
      "metadata": {
        "id": "3lDy5hHRj9hH"
      },
      "execution_count": 1,
      "outputs": []
    },
    {
      "cell_type": "code",
      "source": [
        "#@title Import & Download Meta-Llama-3.1-8B-Instruct Model\n",
        "import transformers\n",
        "import torch\n",
        "\n",
        "model_id = \"meta-llama/Meta-Llama-3.1-8B-Instruct\"\n",
        "\n",
        "pipeline = transformers.pipeline(\n",
        "    \"text-generation\",\n",
        "    model=model_id,\n",
        "    model_kwargs={\"torch_dtype\": torch.bfloat16},\n",
        "    device_map=\"auto\",\n",
        ")\n",
        "def Llama_Chat(system_role,user_msg):\n",
        "  messages = [\n",
        "    {\"role\": \"system\", \"content\": system_role},\n",
        "    {\"role\": \"user\", \"content\": user_msg},\n",
        "  ]\n",
        "  outputs = pipeline(\n",
        "      messages,\n",
        "      max_new_tokens=256,\n",
        "  )\n",
        "  reply=outputs[0][\"generated_text\"][-1][\"content\"]\n",
        "  return reply\n",
        "from IPython.display import clear_output\n",
        "clear_output()\n",
        "\n",
        "\n",
        "#@title Run Llama-3.1-8B-Instruct\n",
        "system_role= \"You are an analytical assistant within a voting system, capable of processing election data, analyzing trends, and providing insights to stakeholders involved in the electoral process.\"  # @param {type: \"string\"}\n",
        "user_msg = \"(a) Following is the list of party names and votes polled by them in a parliamentary constituency (that has several assembly segments). Determine which party won this election, who is the runner up and what is the victory margin against the runner up.  TDP 54056 BJP 1753 YSRCP 69588 INC 1327 JnP 2987 JAJGP 203 IND 568 IND 418 IND 743 IND 636 TDP 51399 BJP 3273 YSRCP 71694 INC 1954 JnP 5391 JAJGP 469 IND 1082 IND 886 IND 1127 IND 793 TDP 57159 BJP 1474  YSRCP 68836 INC 1362 JnP 4995 JAJGP 189 IND 530 IND 390 IND 664 IND 386 TDP 59128 BJP 1684 YSRCP 76281 INC 1730 JnP 3349 JAJGP 261 IND 755 IND 483 IND 1154 IND 707 TDP 23849 BJP 3354 YSRCP 83652 INC 3599 JnP 8761 JAJGP 2034 IND 3902 IND 6430 IND 3157 IND 2653 TDP 27101 BJP 3629 YSRCP 82473  INC 4151 JnP 4637 JAJGP 807 IND 1964 IND 1748 IND 2163 IND 1528 TDP 63471 BJP 2411 YSRCP 105037 INC 3533 JnP 12125 JAJGP 742 IND 1410 IND 3455 IND 2223 IND 1160\"  # @param {type: \"string\"}\n",
        "llama_reply=Llama_Chat(system_role,user_msg)\n",
        "from IPython.display import clear_output\n",
        "clear_output()\n",
        "llama_reply"
      ],
      "metadata": {
        "id": "b4KN_DojkCd0"
      },
      "execution_count": null,
      "outputs": []
    }
  ]
}