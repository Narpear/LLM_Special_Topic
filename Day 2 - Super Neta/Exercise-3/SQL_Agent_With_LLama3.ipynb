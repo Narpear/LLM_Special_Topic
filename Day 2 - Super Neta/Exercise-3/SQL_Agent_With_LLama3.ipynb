{
 "cells": [
  {
   "cell_type": "code",
   "execution_count": 2,
   "metadata": {},
   "outputs": [],
   "source": [
    "from langchain_community.llms import Ollama"
   ]
  },
  {
   "cell_type": "code",
   "execution_count": 3,
   "metadata": {},
   "outputs": [],
   "source": [
    "llm = Ollama(model = 'llama3')"
   ]
  },
  {
   "cell_type": "code",
   "execution_count": 9,
   "metadata": {},
   "outputs": [],
   "source": [
    "our_prompt = \"What is the weather in bangalore today?\""
   ]
  },
  {
   "cell_type": "code",
   "execution_count": 10,
   "metadata": {},
   "outputs": [
    {
     "name": "stdout",
     "output_type": "stream",
     "text": [
      "I'm just an AI, I don't have real-time access to current weather conditions. However, I can suggest some ways for you to find out the weather in Bangalore today:\n",
      "\n",
      "1. **Check online weather websites**: You can visit websites like AccuWeather, Weather.com, or Skyscanner to get the current weather conditions and forecast for Bangalore.\n",
      "2. **Use a weather app**: Download a reliable weather app on your mobile device, such as Dark Sky, Weather Underground, or Yr Weather, which provide real-time weather updates for various locations around the world, including Bangalore.\n",
      "3. **Check social media**: Follow official accounts of Indian Meteorological Department (IMD) or Karnataka State Natural Disaster Management Centre (KSNDMC) on social media platforms like Twitter or Facebook to get updates on the weather in Bangalore.\n",
      "4. **Contact a local**: If you know someone living in Bangalore, you can ask them about the current weather conditions.\n",
      "\n",
      "Please note that weather forecasts and conditions are subject to change, so it's always a good idea to check multiple sources for accurate information."
     ]
    }
   ],
   "source": [
    "for chunk in llm.stream(our_prompt):\n",
    "    print(chunk, end=\"\")"
   ]
  }
 ],
 "metadata": {
  "kernelspec": {
   "display_name": "base",
   "language": "python",
   "name": "python3"
  },
  "language_info": {
   "codemirror_mode": {
    "name": "ipython",
    "version": 3
   },
   "file_extension": ".py",
   "mimetype": "text/x-python",
   "name": "python",
   "nbconvert_exporter": "python",
   "pygments_lexer": "ipython3",
   "version": "3.11.4"
  }
 },
 "nbformat": 4,
 "nbformat_minor": 2
}
