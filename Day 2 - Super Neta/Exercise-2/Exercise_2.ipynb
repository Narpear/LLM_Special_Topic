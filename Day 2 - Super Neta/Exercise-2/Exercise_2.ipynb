{
  "cells": [
    {
      "cell_type": "code",
      "execution_count": null,
      "metadata": {
        "id": "qw_Qh1bDRs5B"
      },
      "outputs": [],
      "source": [
        "import os\n",
        "os.environ[\"GROQ_API_KEY\"] = \"key_here\""
      ]
    },
    {
      "cell_type": "code",
      "execution_count": 21,
      "metadata": {
        "id": "9MQhWTAqRu1q"
      },
      "outputs": [],
      "source": [
        "from langchain_groq import ChatGroq\n",
        "\n",
        "llm = ChatGroq(\n",
        "    model=\"llama3-8b-8192\",\n",
        "    temperature=0,\n",
        "    max_tokens=None,\n",
        "    timeout=None,\n",
        "    max_retries=2,\n",
        "    verbose=True,\n",
        ")"
      ]
    },
    {
      "cell_type": "code",
      "execution_count": 22,
      "metadata": {
        "id": "1t76GaxnnOpt"
      },
      "outputs": [],
      "source": [
        "import pandas as pd\n",
        "\n",
        "df=pd.read_csv('/content/data_Ex2.csv')"
      ]
    },
    {
      "cell_type": "code",
      "execution_count": 25,
      "metadata": {
        "id": "M7iZf6_Znege"
      },
      "outputs": [],
      "source": [
        "df=df[df['party names']!='IND']"
      ]
    },
    {
      "cell_type": "code",
      "execution_count": 28,
      "metadata": {
        "id": "VzWtxU7JfxmG"
      },
      "outputs": [],
      "source": [
        "query1=f\"\"\"\n",
        "You are given the dataframe with of the csv file{df}, now capture the data such that the\n",
        "representation has minimum tokens possibly fitting within 8k.\n",
        "\"\"\""
      ]
    },
    {
      "cell_type": "code",
      "execution_count": 29,
      "metadata": {
        "id": "mvUxQzQBf9a2"
      },
      "outputs": [],
      "source": [
        "output=llm.invoke(query1).content"
      ]
    },
    {
      "cell_type": "code",
      "execution_count": 30,
      "metadata": {
        "colab": {
          "base_uri": "https://localhost:8080/",
          "height": 123
        },
        "id": "yOABbOrjf-9L",
        "outputId": "29dadf1c-4a70-4ac2-8f92-83d179959443"
      },
      "outputs": [
        {
          "data": {
            "application/vnd.google.colaboratory.intrinsic+json": {
              "type": "string"
            },
            "text/plain": [
              "\"To capture the data in a way that fits within 8k tokens, we can use the following approach:\\n\\n1. Group the data by `Parliamentary constituency` and `assembly segments`, and calculate the total `votes polled` for each group.\\n2. Create a new dataframe with the grouped data, and add a new column `party_names` that contains the party names concatenated with a comma (`,`) separator.\\n3. Use the `str.len()` function to calculate the length of each party name, and then use the `str[:x]` syntax to truncate the party name to a maximum length of 20 characters (to fit within 8k tokens).\\n4. Use the `str.cat()` function to concatenate the truncated party names with a comma (`,`) separator.\\n\\nHere's the code:\\n```python\\nimport pandas as pd\\n\\n# assume 'df' is your original dataframe\\n\\n# group by Parliamentary constituency and assembly segments, and calculate total votes polled\\ngrouped_df = df.groupby(['Parliamentary constituency', 'assembly segments'])['votes polled'].sum().reset_index()\\n\\n# create a new column with concatenated party names\\ngrouped_df['party_names'] = grouped_df.apply(lambda x: ', '.join(x['party_names']), axis=1)\\n\\n# truncate party names to 20 characters\\ngrouped_df['party_names'] = grouped_df['party_names'].str[:20]\\n\\n# concatenate truncated party names with comma separator\\ngrouped_df['party_names'] = grouped_df['party_names'].str.cat(sep=',')\\n\\n# print the resulting dataframe\\nprint(grouped_df)\\n```\\nThis should give you a dataframe with the minimum number of tokens possible, fitting within 8k tokens. Note that this approach assumes that the party names are the most important information, and that the other columns can be truncated or omitted to fit within the 8k token limit.\""
            ]
          },
          "execution_count": 30,
          "metadata": {},
          "output_type": "execute_result"
        }
      ],
      "source": [
        "output"
      ]
    },
    {
      "cell_type": "code",
      "execution_count": 37,
      "metadata": {
        "id": "73WTBtVTgh3I"
      },
      "outputs": [],
      "source": [
        "query2=f\"determining the winner of each constituency of {df}, get the runner up, margin and percentage votes polled.,dont give me the code, give me the answer\""
      ]
    },
    {
      "cell_type": "code",
      "execution_count": 38,
      "metadata": {
        "id": "PCneqNCQpLd8"
      },
      "outputs": [],
      "source": [
        "output_b=llm.invoke(query2).content"
      ]
    },
    {
      "cell_type": "code",
      "execution_count": 39,
      "metadata": {
        "colab": {
          "base_uri": "https://localhost:8080/",
          "height": 105
        },
        "id": "7Z_KypnTpN5w",
        "outputId": "4be98b2a-4b7b-4f9f-a676-45a69f76c9ca"
      },
      "outputs": [
        {
          "data": {
            "application/vnd.google.colaboratory.intrinsic+json": {
              "type": "string"
            },
            "text/plain": [
              "'Based on the data, here are the results for each constituency:\\n\\n**CHANDNI CHOWK - ADARSH NAGAR**\\n\\n* Winner: BJP (60727 votes)\\n* Runner-up: AAAP (14076 votes)\\n* Margin: 46651 votes\\n* Percentage votes polled:\\n\\t+ BJP: 63.45% (60727/95912)\\n\\t+ AAAP: 14.63% (14076/95912)\\n\\t+ INC: 20.82% (20049/95912)\\n\\t+ BSP: 1.23% (1186/95912)\\n\\t+ RRP: 0.22% (209/95912)\\n\\n**SOUTH DELHI - BADARPUR**\\n\\n* Winner: PPOI (175 votes)\\n* Runner-up: JMBP (169 votes)\\n* Margin: 6 votes\\n* Percentage votes polled:\\n\\t+ PPOI: 50.58% (175/346)\\n\\t+ JMBP: 48.85% (169/346)\\n\\t+ JNSMP: 5.26% (180/346)\\n\\t+ RRP: 12.74% (44/346)\\n\\t+ RAJADP: 11.32% (39/346)\\n\\nNote: The percentage votes polled are approximate and may not add up to 100% due to rounding errors.'"
            ]
          },
          "execution_count": 39,
          "metadata": {},
          "output_type": "execute_result"
        }
      ],
      "source": [
        "output_b"
      ]
    }
  ],
  "metadata": {
    "colab": {
      "provenance": []
    },
    "kernelspec": {
      "display_name": "Python 3",
      "name": "python3"
    },
    "language_info": {
      "name": "python",
      "version": "3.12.4"
    }
  },
  "nbformat": 4,
  "nbformat_minor": 0
}
