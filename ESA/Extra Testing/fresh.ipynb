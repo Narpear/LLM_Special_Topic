{
 "cells": [
  {
   "cell_type": "code",
   "execution_count": 36,
   "metadata": {},
   "outputs": [],
   "source": [
    "from langchain_core.prompts import ChatPromptTemplate\n",
    "\n",
    "from langchain_community.llms.ollama import Ollama"
   ]
  },
  {
   "cell_type": "code",
   "execution_count": 37,
   "metadata": {},
   "outputs": [],
   "source": [
    "template = \"\"\"Question: {question}\n",
    "\n",
    "\n",
    "Answer: Let's think step by step.\"\"\"\n",
    "\n",
    "\n",
    "prompt = ChatPromptTemplate.from_template(template)\n",
    "\n",
    "\n",
    "model = Ollama(model=\"llama3\")\n",
    "\n",
    "\n",
    "chain = prompt | model"
   ]
  },
  {
   "cell_type": "code",
   "execution_count": 47,
   "metadata": {},
   "outputs": [],
   "source": [
    "our_prompt = \"\"\"\n",
    "i have this following class with two functions\n",
    "import amadeus\n",
    "\n",
    "def get_flight_offers(self, origin, destination, departure_date, n_adults):\n",
    "    response = self.amadeus.shopping.flight_offers_search.get(\n",
    "        originLocationCode=origin,\n",
    "        destinationLocationCode=destination,\n",
    "        departureDate=departure_date,\n",
    "        adults=n_adults\n",
    "    )\n",
    "    return response.data\n",
    "\n",
    "def get_hotel_by_city(self, city_code):\n",
    "    response = self.amadeus.reference_data.locations.hotels.by_city.get(cityCode=city_code)\n",
    "    return response.data\n",
    "\n",
    "\n",
    "(dates in YYYY-MM-DD format)\n",
    "based on the function definitions, can you pick the function definition that matches the user query that I am going to give, give the function call for it according to the information in the query? (do not give  ANY explanations, just the function call). You **must** give the response in JSON format where there are two different objects, one for hotels and the other for flights.\n",
    "For example:\n",
    "{\n",
    "\"task\": \"get_flight_offers\",\n",
    "\"params\": {\n",
    "\"origin\": \"JFK\",\n",
    "\"destination\": \"LAX\",\n",
    "\"departure_date\": \"2024-11-11\",\n",
    "\"n_adults\": 1\n",
    "}\n",
    "}\n",
    "\n",
    "\"\"\"\n",
    "\n",
    "user_query = \"Give flight details from ATH to LAX on the 11th of november, 2024\""
   ]
  },
  {
   "cell_type": "code",
   "execution_count": 39,
   "metadata": {},
   "outputs": [],
   "source": [
    "response = chain.invoke({\"question\": our_prompt+user_query})"
   ]
  },
  {
   "cell_type": "code",
   "execution_count": 40,
   "metadata": {},
   "outputs": [
    {
     "name": "stdout",
     "output_type": "stream",
     "text": [
      "{\n",
      "\"task\": \"get_hotel_by_city\",\n",
      "\"params\": {\n",
      "\"city_code\": \"PAR\"\n",
      "}\n",
      "}\n"
     ]
    }
   ],
   "source": [
    "print(response)"
   ]
  },
  {
   "cell_type": "code",
   "execution_count": 41,
   "metadata": {},
   "outputs": [
    {
     "data": {
      "text/plain": [
       "{'task': 'get_hotel_by_city', 'params': {'city_code': 'PAR'}}"
      ]
     },
     "execution_count": 41,
     "metadata": {},
     "output_type": "execute_result"
    }
   ],
   "source": [
    "import json \n",
    "\n",
    "data = json.loads(response)\n",
    "data"
   ]
  },
  {
   "cell_type": "code",
   "execution_count": 44,
   "metadata": {},
   "outputs": [
    {
     "ename": "ModuleNotFoundError",
     "evalue": "No module named 'amedeus_client'",
     "output_type": "error",
     "traceback": [
      "\u001b[1;31m---------------------------------------------------------------------------\u001b[0m",
      "\u001b[1;31mModuleNotFoundError\u001b[0m                       Traceback (most recent call last)",
      "Cell \u001b[1;32mIn[44], line 1\u001b[0m\n\u001b[1;32m----> 1\u001b[0m \u001b[38;5;28;01mimport\u001b[39;00m \u001b[38;5;21;01mamedeus_client\u001b[39;00m\n\u001b[0;32m      3\u001b[0m \u001b[38;5;28;01mif\u001b[39;00m data[\u001b[38;5;124m'\u001b[39m\u001b[38;5;124mtask\u001b[39m\u001b[38;5;124m'\u001b[39m]\u001b[38;5;241m==\u001b[39m\u001b[38;5;124m'\u001b[39m\u001b[38;5;124mget_flight_offers\u001b[39m\u001b[38;5;124m'\u001b[39m:\n\u001b[0;32m      4\u001b[0m     origin \u001b[38;5;241m=\u001b[39m data[\u001b[38;5;124m'\u001b[39m\u001b[38;5;124mparams\u001b[39m\u001b[38;5;124m'\u001b[39m][\u001b[38;5;124m'\u001b[39m\u001b[38;5;124morigin\u001b[39m\u001b[38;5;124m'\u001b[39m]\n",
      "\u001b[1;31mModuleNotFoundError\u001b[0m: No module named 'amedeus_client'"
     ]
    }
   ],
   "source": [
    "import amadeus_client\n",
    "\n",
    "result = \"\"\n",
    "\n",
    "if data['task']=='get_flight_offers':\n",
    "    origin = data['params']['origin']\n",
    "    destination = data['params']['destination']\n",
    "    departure_date = data['params']['departure_date']\n",
    "    n_adults = data['params']['n_adults']\n",
    "    flight_data = amadeus_client.getting_flight_offers(origin = origin, destination = destination, departure_date = departure_date, n_adults = n_adults)\n",
    "    result = flight_data\n",
    "\n",
    "# print(flight_data)\n",
    "else:\n",
    "    city_code = data['params']['city_code']\n",
    "    hotel_data =amadeus_client.getting_hotels(city_code = city_code)\n",
    "    result = hotel_data\n",
    "    "
   ]
  },
  {
   "cell_type": "code",
   "execution_count": 49,
   "metadata": {},
   "outputs": [],
   "source": [
    "result = \"\"\"\n",
    "[{'type': 'flight-offer', 'id': '1', 'source': 'GDS', 'instantTicketingRequired': False, 'nonHomogeneous': False, 'oneWay': False, 'isUpsellOffer': False, 'lastTicketingDate': '2024-11-01', 'lastTicketingDateTime': '2024-11-01', 'numberOfBookableSeats': 9, 'itineraries': [{'duration': 'PT18H30M', 'segments': [{'departure': {'iataCode': 'ATH', 'at': '2024-11-01T02:35:00'}, 'arrival': {'iataCode': 'IST', 'at': '2024-11-01T05:05:00'}, 'carrierCode': 'TK', 'number': '1842', 'aircraft': {'code': '32B'}, 'operating': {'carrierCode': 'TK'}, 'duration': 'PT1H30M', 'id': '45', 'numberOfStops': 0, 'blacklistedInEU': False}, {'departure': {'iataCode': 'IST', 'at': '2024-11-01T08:10:00'}, 'arrival': {'iataCode': 'LAX', 'terminal': 'B', 'at': '2024-11-01T12:05:00'}, 'carrierCode': 'TK', 'number': '179', 'aircraft': {'code': '789'}, 'operating': {'carrierCode': 'TK'}, 'duration': 'PT13H55M', 'id': '46', 'numberOfStops': 0, 'blacklistedInEU': False}]}], 'price': {'currency': 'EUR', 'total': '1346.78', 'base': '732.00', 'fees': [{'amount': '0.00', 'type': 'SUPPLIER'}, {'amount': '0.00', 'type': 'TICKETING'}], 'grandTotal': '1346.78'}, 'pricingOptions': {'fareType': ['PUBLISHED'], 'includedCheckedBagsOnly': True}, 'validatingAirlineCodes': \n",
    "['TK'], 'travelerPricings': [{'travelerId': '1', 'fareOption': 'STANDARD', 'travelerType': 'ADULT', 'price': {'currency': 'EUR', 'total': '673.39', 'base': '366.00'}, 'fareDetailsBySegment': [{'segmentId': '45', 'cabin': 'ECONOMY', 'fareBasis': 'QLN2PXOW', 'brandedFare': 'RS', 'brandedFareLabel': 'RESTRICTED', 'class': 'Q', 'includedCheckedBags': {'quantity': 2}, 'amenities': [{'description': 'BAG INCLUDED', 'isChargeable': False, 'amenityType': 'BAGGAGE', 'amenityProvider': {'name': 'BrandedFare'}}, {'description': 'MEAL SERVICE', 'isChargeable': False, 'amenityType': 'MEAL', 'amenityProvider': {'name': 'BrandedFare'}}, {'description': 'STANDART SEAT SELECTION', 'isChargeable': True, 'amenityType': 'BRANDED_FARES', 'amenityProvider': {'name': 'BrandedFare'}}, {'description': 'REFUNDABLE TICKET', 'isChargeable': True, 'amenityType': 'BRANDED_FARES', 'amenityProvider': {'name': 'BrandedFare'}}, {'description': 'CHANGEABLE TICKET', 'isChargeable': True, 'amenityType': 'BRANDED_FARES', 'amenityProvider': \n",
    "{'name': 'BrandedFare'}}, {'description': 'ONLINE MESSAGE RIGHT', 'isChargeable': False, 'amenityType': 'ENTERTAINMENT', 'amenityProvider': {'name': 'BrandedFare'}}, {'description': 'FRONT SEAT SELECTION', 'isChargeable': True, 'amenityType': 'BRANDED_FARES', 'amenityProvider': {'name': 'BrandedFare'}}]}, {'segmentId': '46', 'cabin': 'ECONOMY', 'fareBasis': 'QLN2PXOW', 'brandedFare': 'RS', 'brandedFareLabel': 'RESTRICTED', 'class': 'Q', 'includedCheckedBags': {'quantity': 2}, 'amenities': [{'description': 'BAG INCLUDED', 'isChargeable': False, 'amenityType': \n",
    "'BAGGAGE', 'amenityProvider': {'name': 'BrandedFare'}}, {'description': 'MEAL SERVICE', 'isChargeable': False, 'amenityType': 'MEAL', 'amenityProvider': {'name': 'BrandedFare'}}, {'description': 'STANDART SEAT SELECTION', 'isChargeable': True, 'amenityType': 'BRANDED_FARES', 'amenityProvider': {'name': 'BrandedFare'}}, {'description': 'REFUNDABLE TICKET', 'isChargeable': True, 'amenityType': 'BRANDED_FARES', 'amenityProvider': {'name': 'BrandedFare'}}, {'description': 'CHANGEABLE TICKET', 'isChargeable': True, 'amenityType': 'BRANDED_FARES', 'amenityProvider': {'name': 'BrandedFare'}}, {'description': 'ONLINE MESSAGE RIGHT', 'isChargeable': False, 'amenityType': 'ENTERTAINMENT', 'amenityProvider': {'name': 'BrandedFare'}}, {'description': 'FRONT SEAT SELECTION', 'isChargeable': True, 'amenityType': 'BRANDED_FARES', 'amenityProvider': {'name': 'BrandedFare'}}]}]}, {'travelerId': '2', 'fareOption': 'STANDARD', 'travelerType': 'ADULT', 'price': {'currency': 'EUR', 'total': '673.39', 'base': '366.00'}, 'fareDetailsBySegment': [{'segmentId': '45', 'cabin': 'ECONOMY', 'fareBasis': 'QLN2PXOW', 'brandedFare': 'RS', 'brandedFareLabel': 'RESTRICTED', 'class': 'Q', 'includedCheckedBags': {'quantity': 2}, 'amenities': [{'description': \n",
    "'BAG INCLUDED', 'isChargeable': False, 'amenityType': 'BAGGAGE', 'amenityProvider': {'name': 'BrandedFare'}}, {'description': 'MEAL SERVICE', 'isChargeable': False, 'amenityType': 'MEAL', 'amenityProvider': {'name': 'BrandedFare'}}, {'description': 'STANDART SEAT SELECTION', 'isChargeable': True, 'amenityType': 'BRANDED_FARES', 'amenityProvider': {'name': 'BrandedFare'}}, {'description': 'REFUNDABLE TICKET', 'isChargeable': True, 'amenityType': 'BRANDED_FARES', 'amenityProvider': {'name': 'BrandedFare'}}, {'description': 'CHANGEABLE TICKET', 'isChargeable': True, 'amenityType': 'BRANDED_FARES', 'amenityProvider': {'name': 'BrandedFare'}}, {'description': 'ONLINE MESSAGE RIGHT', 'isChargeable': False, 'amenityType': 'ENTERTAINMENT', 'amenityProvider': {'name': 'BrandedFare'}}, {'description': 'FRONT SEAT SELECTION', 'isChargeable': True, 'amenityType': 'BRANDED_FARES', 'amenityProvider': {'name': 'BrandedFare'}}]}, {'segmentId': '46', 'cabin': 'ECONOMY', 'fareBasis': 'QLN2PXOW', 'brandedFare': 'RS', 'brandedFareLabel': 'RESTRICTED', 'class': 'Q', 'includedCheckedBags': {'quantity': 2}, 'amenities': [{'description': 'BAG INCLUDED', 'isChargeable': False, 'amenityType': 'BAGGAGE', 'amenityProvider': {'name': 'BrandedFare'}}, {'description': 'MEAL SERVICE', 'isChargeable': False, 'amenityType': 'MEAL', 'amenityProvider': {'name': 'BrandedFare'}}, {'description': 'STANDART SEAT SELECTION', 'isChargeable': True, 'amenityType': 'BRANDED_FARES', 'amenityProvider': {'name': 'BrandedFare'}}, {'description': 'REFUNDABLE TICKET', 'isChargeable': True, 'amenityType': 'BRANDED_FARES', 'amenityProvider': {'name': 'BrandedFare'}}, {'description': 'CHANGEABLE TICKET', 'isChargeable': True, 'amenityType': 'BRANDED_FARES', 'amenityProvider': {'name': 'BrandedFare'}}, {'description': 'ONLINE MESSAGE RIGHT', 'isChargeable': False, 'amenityType': 'ENTERTAINMENT', 'amenityProvider': {'name': 'BrandedFare'}}, {'description': 'FRONT SEAT SELECTION', 'isChargeable': True, 'amenityType': 'BRANDED_FARES', 'amenityProvider': {'name': 'BrandedFare'}}]}]}]}, {'type': 'flight-offer', 'id': '2', 'source': 'GDS', 'instantTicketingRequired': False, 'nonHomogeneous': False, 'oneWay': False, 'isUpsellOffer': False, 'lastTicketingDate': '2024-11-01', 'lastTicketingDateTime': '2024-11-01', 'numberOfBookableSeats': 9, 'itineraries': [{'duration': 'PT24H10M', 'segments': \n",
    "[{'departure': {'iataCode': 'ATH', 'at': '2024-11-01T02:35:00'}, 'arrival': {'iataCode': 'IST', 'at': '2024-11-01T05:05:00'}, 'carrierCode': 'TK', 'number': '1842', 'aircraft': {'code': '32B'}, 'operating': {'carrierCode': 'TK'}, 'duration': 'PT1H30M', 'id': '13', 'numberOfStops': 0, 'blacklistedInEU': False}, {'departure': {'iataCode': \n",
    "'IST', 'at': '2024-11-01T13:50:00'}, 'arrival': {'iataCode': 'LAX', 'terminal': 'B', 'at': '2024-11-01T17:45:00'}, 'carrierCode': 'TK', 'number': '9', 'aircraft': {'code': '77W'}, 'operating': {'carrierCode': 'TK'}, 'duration': 'PT13H55M', 'id': '14', 'numberOfStops': 0, 'blacklistedInEU': False}]}], 'price': {'currency': 'EUR', 'total': '1346.78', 'base': '732.00', 'fees': [{'amount': '0.00', 'type': 'SUPPLIER'}, {'amount': '0.00', 'type': 'TICKETING'}], 'grandTotal': '1346.78'}, 'pricingOptions': {'fareType': ['PUBLISHED'], 'includedCheckedBagsOnly': True}, 'validatingAirlineCodes': ['TK'], 'travelerPricings': [{'travelerId': '1', 'fareOption': 'STANDARD', 'travelerType': 'ADULT', 'price': {'currency': 'EUR', 'total': '673.39', 'base': '366.00'}, 'fareDetailsBySegment': [{'segmentId': '13', 'cabin': 'ECONOMY', 'fareBasis': 'QLN2PXOW', 'brandedFare': 'RS', 'brandedFareLabel': 'RESTRICTED', \n",
    "'class': 'Q', 'includedCheckedBags': {'quantity': 2}, 'amenities': [{'description': 'BAG INCLUDED', 'isChargeable': False, 'amenityType': 'BAGGAGE', 'amenityProvider': {'name': 'BrandedFare'}}, {'description': 'MEAL SERVICE', \n",
    "'isChargeable': False, 'amenityType': 'MEAL', 'amenityProvider': {'name': 'BrandedFare'}}, {'description': 'STANDART SEAT SELECTION', 'isChargeable': True, 'amenityType': 'BRANDED_FARES', 'amenityProvider': {'name': 'BrandedFare'}}, {'description': 'REFUNDABLE TICKET', 'isChargeable': True, 'amenityType': 'BRANDED_FARES', 'amenityProvider': {'name': 'BrandedFare'}}, {'description': 'CHANGEABLE TICKET', 'isChargeable': True, 'amenityType': 'BRANDED_FARES', 'amenityProvider': {'name': 'BrandedFare'}}, {'description': 'ONLINE MESSAGE RIGHT', 'isChargeable': False, 'amenityType': 'ENTERTAINMENT', 'amenityProvider': {'name': 'BrandedFare'}}, {'description': 'FRONT SEAT SELECTION', 'isChargeable': True, 'amenityType': 'BRANDED_FARES', 'amenityProvider': {'name': 'BrandedFare'}}]}, {'segmentId': '14', 'cabin': 'ECONOMY', 'fareBasis': 'QLN2PXOW', 'brandedFare': 'RS', 'brandedFareLabel': 'RESTRICTED', 'class': 'Q', 'includedCheckedBags': {'quantity': 2}, 'amenities': [{'description': 'BAG INCLUDED', 'isChargeable': False, 'amenityType': 'BAGGAGE', 'amenityProvider': {'name': 'BrandedFare'}}, {'description': 'MEAL SERVICE', 'isChargeable': False, 'amenityType': 'MEAL', 'amenityProvider': {'name': 'BrandedFare'}}, {'description': 'STANDART SEAT SELECTION', 'isChargeable': True, 'amenityType': 'BRANDED_FARES', 'amenityProvider': {'name': 'BrandedFare'}}, {'description': 'REFUNDABLE TICKET', 'isChargeable': True, 'amenityType': 'BRANDED_FARES', 'amenityProvider': {'name': 'BrandedFare'}}, {'description': 'CHANGEABLE TICKET', 'isChargeable': True, 'amenityType': 'BRANDED_FARES', 'amenityProvider': {'name': 'BrandedFare'}}, {'description': 'ONLINE MESSAGE RIGHT', 'isChargeable': False, 'amenityType': 'ENTERTAINMENT', 'amenityProvider': {'name': 'BrandedFare'}}, {'description': 'FRONT SEAT SELECTION', 'isChargeable': True, 'amenityType': 'BRANDED_FARES', 'amenityProvider': {'name': 'BrandedFare'}}]}]}, {'travelerId': '2', 'fareOption': 'STANDARD', 'travelerType': 'ADULT', 'price': {'currency': 'EUR', 'total': '673.39', 'base': '366.00'}, 'fareDetailsBySegment': [{'segmentId': '13', 'cabin': 'ECONOMY', 'fareBasis': 'QLN2PXOW', 'brandedFare': 'RS', 'brandedFareLabel': 'RESTRICTED', 'class': 'Q', 'includedCheckedBags': {'quantity': 2}, 'amenities': [{'description': 'BAG INCLUDED', 'isChargeable': False, 'amenityType': 'BAGGAGE', 'amenityProvider': {'name': 'BrandedFare'}}, {'description': 'MEAL SERVICE', 'isChargeable': False, 'amenityType': 'MEAL', 'amenityProvider': {'name': 'BrandedFare'}}, {'description': 'STANDART SEAT SELECTION', 'isChargeable': True, 'amenityType': 'BRANDED_FARES', 'amenityProvider': {'name': 'BrandedFare'}}, {'description': 'REFUNDABLE TICKET', 'isChargeable': True, 'amenityType': 'BRANDED_FARES', 'amenityProvider': {'name': 'BrandedFare'}}, {'description': 'CHANGEABLE TICKET', 'isChargeable': True, 'amenityType': 'BRANDED_FARES', 'amenityProvider': {'name': 'BrandedFare'}}, {'description': 'ONLINE MESSAGE RIGHT', 'isChargeable': False, 'amenityType': 'ENTERTAINMENT', 'amenityProvider': {'name': 'BrandedFare'}}, {'description': 'FRONT SEAT SELECTION', 'isChargeable': True, 'amenityType': 'BRANDED_FARES', 'amenityProvider': {'name': 'BrandedFare'}}]}, {'segmentId': '14', 'cabin': 'ECONOMY', 'fareBasis': 'QLN2PXOW', 'brandedFare': 'RS', 'brandedFareLabel': 'RESTRICTED', 'class': 'Q', 'includedCheckedBags': {'quantity': 2}, 'amenities': [{'description': 'BAG INCLUDED', 'isChargeable': False, 'amenityType': 'BAGGAGE', 'amenityProvider': \n",
    "{'name': 'BrandedFare'}}, {'description': 'MEAL SERVICE', 'isChargeable': False, 'amenityType': 'MEAL', 'amenityProvider': {'name': 'BrandedFare'}}, {'description': 'STANDART SEAT SELECTION', 'isChargeable': True, 'amenityType': 'BRANDED_FARES', 'amenityProvider': {'name': 'BrandedFare'}}, {'description': 'REFUNDABLE TICKET', 'isChargeable': True, 'amenityType': 'BRANDED_FARES', 'amenityProvider': {'name': 'BrandedFare'}}, {'description': 'CHANGEABLE TICKET', 'isChargeable': True, 'amenityType': 'BRANDED_FARES', 'amenityProvider': {'name': 'BrandedFare'}}, {'description': 'ONLINE MESSAGE RIGHT', 'isChargeable': False, 'amenityType': 'ENTERTAINMENT', 'amenityProvider': {'name': 'BrandedFare'}}, {'description': 'FRONT SEAT SELECTION', 'isChargeable': True, 'amenityType': 'BRANDED_FARES', 'amenityProvider': {'name': 'BrandedFare'}}]}]}]}, {'type': 'flight-offer', 'id': '3', 'source': 'GDS', 'instantTicketingRequired': False, 'nonHomogeneous': False, 'oneWay': False, 'isUpsellOffer': False, 'lastTicketingDate': '2024-11-01', 'lastTicketingDateTime': '2024-11-01', 'numberOfBookableSeats': 8, 'itineraries': [{'duration': 'PT24H', 'segments': [{'departure': {'iataCode': 'ATH', 'at': '2024-11-01T21:05:00'}, 'arrival': {'iataCode': \n",
    "'IST', 'at': '2024-11-01T23:40:00'}, 'carrierCode': 'TK', 'number': '1846', 'aircraft': {'code': '32B'}, 'operating': {'carrierCode': 'TK'}, 'duration': 'PT1H35M', 'id': '7', 'numberOfStops': 0, 'blacklistedInEU': False}, {'departure': {'iataCode': 'IST', 'at': '2024-11-02T08:10:00'}, 'arrival': {'iataCode': 'LAX', 'terminal': 'B', 'at': '2024-11-02T12:05:00'}, 'carrierCode': 'TK', 'number': '179', 'aircraft': {'code': '789'}, 'operating': {'carrierCode': 'TK'}, 'duration': 'PT13H55M', 'id': '8', 'numberOfStops': 0, 'blacklistedInEU': False}]}], 'price': {'currency': 'EUR', 'total': '1346.78', 'base': '732.00', 'fees': [{'amount': '0.00', 'type': 'SUPPLIER'}, {'amount': '0.00', 'type': 'TICKETING'}], 'grandTotal': '1346.78'}, 'pricingOptions': {'fareType': ['PUBLISHED'], 'includedCheckedBagsOnly': True}, 'validatingAirlineCodes': ['TK'], 'travelerPricings': [{'travelerId': '1', 'fareOption': 'STANDARD', 'travelerType': 'ADULT', 'price': {'currency': 'EUR', 'total': '673.39', 'base': '366.00'}, 'fareDetailsBySegment': [{'segmentId': '7', 'cabin': 'ECONOMY', 'fareBasis': 'QLN2PXOW', 'brandedFare': 'RS', 'brandedFareLabel': 'RESTRICTED', 'class': 'Q', 'includedCheckedBags': {'quantity': 2}, 'amenities': [{'description': 'BAG INCLUDED', 'isChargeable': False, 'amenityType': 'BAGGAGE', 'amenityProvider': {'name': 'BrandedFare'}}, {'description': 'MEAL SERVICE', 'isChargeable': False, 'amenityType': 'MEAL', 'amenityProvider': {'name': 'BrandedFare'}}, {'description': 'STANDART SEAT SELECTION', 'isChargeable': True, 'amenityType': 'BRANDED_FARES', 'amenityProvider': {'name': 'BrandedFare'}}, {'description': 'REFUNDABLE TICKET', 'isChargeable': True, 'amenityType': 'BRANDED_FARES', 'amenityProvider': {'name': 'BrandedFare'}}, {'description': 'CHANGEABLE TICKET', 'isChargeable': True, 'amenityType': 'BRANDED_FARES', 'amenityProvider': {'name': 'BrandedFare'}}, {'description': 'ONLINE MESSAGE RIGHT', 'isChargeable': False, 'amenityType': 'ENTERTAINMENT', 'amenityProvider': {'name': 'BrandedFare'}}, {'description': 'FRONT SEAT SELECTION', 'isChargeable': True, 'amenityType': 'BRANDED_FARES', 'amenityProvider': {'name': 'BrandedFare'}}]}, {'segmentId': '8', 'cabin': 'ECONOMY', 'fareBasis': 'QLN2PXOW', 'brandedFare': 'RS', 'brandedFareLabel': 'RESTRICTED', 'class': 'Q', 'includedChec\n",
    "\"\"\"\n",
    "our_prompt2 = f\"\"\"I have provided to you with user question and the JSON answer. Can you present it in a normal english textual format without using JSON format. with only the important information\n",
    ": User question: {user_query}. Result: {result}. Can you give the answer in human understandable format?\"\"\"\n",
    "\n",
    "response2 = chain.invoke({\"question\": our_prompt2})"
   ]
  },
  {
   "cell_type": "code",
   "execution_count": 50,
   "metadata": {},
   "outputs": [
    {
     "data": {
      "text/plain": [
       "\"A JSON response!\\n\\nLet me help you break it down into a human-readable format.\\n\\n**Flight Information**\\n\\n* Flight ID: 3\\n* Source: GDS (Global Distribution System)\\n* Instant ticketing required: No\\n* Non-homogeneous: No\\n* One-way: No\\n* Last ticketing date: November 1, 2024\\n\\n**Itinerary**\\n\\n* Duration: 24 hours\\n* Segments:\\n\\t+ Departure: Athens (ATH) on November 1, 2024 at 21:05\\n\\t+ Arrival: Istanbul (IST) on November 1, 2024 at 23:40\\n\\t+ Flight number: TK1846\\n\\t+ Aircraft code: 32B\\n* Segment 2:\\n\\t+ Departure: Istanbul (IST) on November 2, 2024 at 08:10\\n\\t+ Arrival: Los Angeles (LAX) on November 2, 2024 at 12:05\\n\\t+ Flight number: TK179\\n\\t+ Aircraft code: 789\\n\\n**Price**\\n\\n* Currency: EUR\\n* Total price: €1,346.78\\n* Base price: €732.00\\n* Fees:\\n\\t+ Supplier fee: €0.00\\n\\t+ Ticketing fee: €0.00\\n\\n**Pricing Options**\\n\\n* Fare type: PUBLISHED\\n* Included checked bags only: Yes\\n\\n**Validating Airline Codes**\\n\\n* TK (Turkish Airlines)\\n\\n**Traveler Pricing**\\n\\n* Traveler ID: 1\\n* Fare option: STANDARD\\n* Traveler type: ADULT\\n* Price:\\n\\t+ Currency: EUR\\n\\t+ Total price: €673.39\\n\\t+ Base price: €366.00\\n\\nAnd that's a summary of the JSON response in human-readable format!\""
      ]
     },
     "execution_count": 50,
     "metadata": {},
     "output_type": "execute_result"
    }
   ],
   "source": [
    "response2"
   ]
  },
  {
   "cell_type": "code",
   "execution_count": 51,
   "metadata": {},
   "outputs": [
    {
     "name": "stdout",
     "output_type": "stream",
     "text": [
      "A JSON response!\n",
      "\n",
      "Let me help you break it down into a human-readable format.\n",
      "\n",
      "**Flight Information**\n",
      "\n",
      "* Flight ID: 3\n",
      "* Source: GDS (Global Distribution System)\n",
      "* Instant ticketing required: No\n",
      "* Non-homogeneous: No\n",
      "* One-way: No\n",
      "* Last ticketing date: November 1, 2024\n",
      "\n",
      "**Itinerary**\n",
      "\n",
      "* Duration: 24 hours\n",
      "* Segments:\n",
      "\t+ Departure: Athens (ATH) on November 1, 2024 at 21:05\n",
      "\t+ Arrival: Istanbul (IST) on November 1, 2024 at 23:40\n",
      "\t+ Flight number: TK1846\n",
      "\t+ Aircraft code: 32B\n",
      "* Segment 2:\n",
      "\t+ Departure: Istanbul (IST) on November 2, 2024 at 08:10\n",
      "\t+ Arrival: Los Angeles (LAX) on November 2, 2024 at 12:05\n",
      "\t+ Flight number: TK179\n",
      "\t+ Aircraft code: 789\n",
      "\n",
      "**Price**\n",
      "\n",
      "* Currency: EUR\n",
      "* Total price: €1,346.78\n",
      "* Base price: €732.00\n",
      "* Fees:\n",
      "\t+ Supplier fee: €0.00\n",
      "\t+ Ticketing fee: €0.00\n",
      "\n",
      "**Pricing Options**\n",
      "\n",
      "* Fare type: PUBLISHED\n",
      "* Included checked bags only: Yes\n",
      "\n",
      "**Validating Airline Codes**\n",
      "\n",
      "* TK (Turkish Airlines)\n",
      "\n",
      "**Traveler Pricing**\n",
      "\n",
      "* Traveler ID: 1\n",
      "* Fare option: STANDARD\n",
      "* Traveler type: ADULT\n",
      "* Price:\n",
      "\t+ Currency: EUR\n",
      "\t+ Total price: €673.39\n",
      "\t+ Base price: €366.00\n",
      "\n",
      "And that's a summary of the JSON response in human-readable format!\n"
     ]
    }
   ],
   "source": [
    "print(response2)"
   ]
  }
 ],
 "metadata": {
  "kernelspec": {
   "display_name": "Python 3",
   "language": "python",
   "name": "python3"
  },
  "language_info": {
   "codemirror_mode": {
    "name": "ipython",
    "version": 3
   },
   "file_extension": ".py",
   "mimetype": "text/x-python",
   "name": "python",
   "nbconvert_exporter": "python",
   "pygments_lexer": "ipython3",
   "version": "3.11.4"
  }
 },
 "nbformat": 4,
 "nbformat_minor": 2
}
